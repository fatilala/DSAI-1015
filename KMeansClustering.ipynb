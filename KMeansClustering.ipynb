{
 "cells": [
  {
   "cell_type": "markdown",
   "id": "f22f78e0-de64-4e1e-bd17-b24a02fae21e",
   "metadata": {},
   "source": [
    "# K means clustering\n"
   ]
  },
  {
   "cell_type": "code",
   "execution_count": 1,
   "id": "e3e8b10a-7b92-4753-92c9-b11d0abac47a",
   "metadata": {},
   "outputs": [],
   "source": [
    "# Basic Libraries\n",
    "import numpy as np\n",
    "import pandas as pd\n",
    "import seaborn as sb\n",
    "import matplotlib.pyplot as plt \n",
    "sb.set() # set the default Seaborn style for graphics"
   ]
  },
  {
   "cell_type": "code",
   "execution_count": 2,
   "id": "4d175b18-08e6-4f92-b5e9-af2fc67d7af9",
   "metadata": {},
   "outputs": [],
   "source": [
    "spotdata = pd.read_csv('spotifyfeatures.csv',header = 0)"
   ]
  },
  {
   "cell_type": "code",
   "execution_count": 11,
   "id": "a8e8cabf-40bc-4ab5-b31e-ea478ffc7500",
   "metadata": {},
   "outputs": [
    {
     "data": {
      "text/html": [
       "<div>\n",
       "<style scoped>\n",
       "    .dataframe tbody tr th:only-of-type {\n",
       "        vertical-align: middle;\n",
       "    }\n",
       "\n",
       "    .dataframe tbody tr th {\n",
       "        vertical-align: top;\n",
       "    }\n",
       "\n",
       "    .dataframe thead th {\n",
       "        text-align: right;\n",
       "    }\n",
       "</style>\n",
       "<table border=\"1\" class=\"dataframe\">\n",
       "  <thead>\n",
       "    <tr style=\"text-align: right;\">\n",
       "      <th></th>\n",
       "      <th>duration_ms</th>\n",
       "      <th>popularity</th>\n",
       "      <th>danceability</th>\n",
       "      <th>energy</th>\n",
       "      <th>loudness</th>\n",
       "      <th>speechiness</th>\n",
       "      <th>acousticness</th>\n",
       "      <th>instrumentalness</th>\n",
       "      <th>liveness</th>\n",
       "      <th>valence</th>\n",
       "      <th>tempo</th>\n",
       "    </tr>\n",
       "  </thead>\n",
       "  <tbody>\n",
       "    <tr>\n",
       "      <th>135</th>\n",
       "      <td>246333</td>\n",
       "      <td>1</td>\n",
       "      <td>0.724</td>\n",
       "      <td>0.689</td>\n",
       "      <td>-5.922</td>\n",
       "      <td>0.1350</td>\n",
       "      <td>0.0830</td>\n",
       "      <td>0.000000</td>\n",
       "      <td>0.3040</td>\n",
       "      <td>0.6930</td>\n",
       "      <td>146.496</td>\n",
       "    </tr>\n",
       "    <tr>\n",
       "      <th>136</th>\n",
       "      <td>186467</td>\n",
       "      <td>1</td>\n",
       "      <td>0.685</td>\n",
       "      <td>0.610</td>\n",
       "      <td>-5.221</td>\n",
       "      <td>0.0439</td>\n",
       "      <td>0.3230</td>\n",
       "      <td>0.000000</td>\n",
       "      <td>0.1020</td>\n",
       "      <td>0.3230</td>\n",
       "      <td>94.384</td>\n",
       "    </tr>\n",
       "    <tr>\n",
       "      <th>137</th>\n",
       "      <td>199520</td>\n",
       "      <td>1</td>\n",
       "      <td>0.762</td>\n",
       "      <td>0.520</td>\n",
       "      <td>-5.237</td>\n",
       "      <td>0.0959</td>\n",
       "      <td>0.0675</td>\n",
       "      <td>0.000004</td>\n",
       "      <td>0.1140</td>\n",
       "      <td>0.0862</td>\n",
       "      <td>75.047</td>\n",
       "    </tr>\n",
       "    <tr>\n",
       "      <th>138</th>\n",
       "      <td>240597</td>\n",
       "      <td>1</td>\n",
       "      <td>0.563</td>\n",
       "      <td>0.366</td>\n",
       "      <td>-6.896</td>\n",
       "      <td>0.1210</td>\n",
       "      <td>0.3600</td>\n",
       "      <td>0.002430</td>\n",
       "      <td>0.0955</td>\n",
       "      <td>0.7680</td>\n",
       "      <td>85.352</td>\n",
       "    </tr>\n",
       "    <tr>\n",
       "      <th>139</th>\n",
       "      <td>213947</td>\n",
       "      <td>1</td>\n",
       "      <td>0.653</td>\n",
       "      <td>0.621</td>\n",
       "      <td>-5.721</td>\n",
       "      <td>0.0409</td>\n",
       "      <td>0.5960</td>\n",
       "      <td>0.000000</td>\n",
       "      <td>0.0811</td>\n",
       "      <td>0.4660</td>\n",
       "      <td>100.006</td>\n",
       "    </tr>\n",
       "    <tr>\n",
       "      <th>...</th>\n",
       "      <td>...</td>\n",
       "      <td>...</td>\n",
       "      <td>...</td>\n",
       "      <td>...</td>\n",
       "      <td>...</td>\n",
       "      <td>...</td>\n",
       "      <td>...</td>\n",
       "      <td>...</td>\n",
       "      <td>...</td>\n",
       "      <td>...</td>\n",
       "      <td>...</td>\n",
       "    </tr>\n",
       "    <tr>\n",
       "      <th>231317</th>\n",
       "      <td>131160</td>\n",
       "      <td>1</td>\n",
       "      <td>0.518</td>\n",
       "      <td>0.694</td>\n",
       "      <td>-5.631</td>\n",
       "      <td>0.0836</td>\n",
       "      <td>0.5840</td>\n",
       "      <td>0.000000</td>\n",
       "      <td>0.6870</td>\n",
       "      <td>0.8730</td>\n",
       "      <td>160.537</td>\n",
       "    </tr>\n",
       "    <tr>\n",
       "      <th>231493</th>\n",
       "      <td>262827</td>\n",
       "      <td>1</td>\n",
       "      <td>0.660</td>\n",
       "      <td>0.560</td>\n",
       "      <td>-8.894</td>\n",
       "      <td>0.0287</td>\n",
       "      <td>0.2100</td>\n",
       "      <td>0.000040</td>\n",
       "      <td>0.0974</td>\n",
       "      <td>0.6410</td>\n",
       "      <td>89.505</td>\n",
       "    </tr>\n",
       "    <tr>\n",
       "      <th>231638</th>\n",
       "      <td>158493</td>\n",
       "      <td>1</td>\n",
       "      <td>0.661</td>\n",
       "      <td>0.909</td>\n",
       "      <td>-2.323</td>\n",
       "      <td>0.0494</td>\n",
       "      <td>0.0981</td>\n",
       "      <td>0.000000</td>\n",
       "      <td>0.3050</td>\n",
       "      <td>0.6430</td>\n",
       "      <td>125.021</td>\n",
       "    </tr>\n",
       "    <tr>\n",
       "      <th>232230</th>\n",
       "      <td>274747</td>\n",
       "      <td>1</td>\n",
       "      <td>0.677</td>\n",
       "      <td>0.845</td>\n",
       "      <td>-8.270</td>\n",
       "      <td>0.0379</td>\n",
       "      <td>0.0253</td>\n",
       "      <td>0.001020</td>\n",
       "      <td>0.3250</td>\n",
       "      <td>0.6390</td>\n",
       "      <td>105.893</td>\n",
       "    </tr>\n",
       "    <tr>\n",
       "      <th>232407</th>\n",
       "      <td>217027</td>\n",
       "      <td>1</td>\n",
       "      <td>0.797</td>\n",
       "      <td>0.512</td>\n",
       "      <td>-8.250</td>\n",
       "      <td>0.1940</td>\n",
       "      <td>0.1100</td>\n",
       "      <td>0.000001</td>\n",
       "      <td>0.0853</td>\n",
       "      <td>0.6020</td>\n",
       "      <td>114.892</td>\n",
       "    </tr>\n",
       "  </tbody>\n",
       "</table>\n",
       "<p>58432 rows × 11 columns</p>\n",
       "</div>"
      ],
      "text/plain": [
       "        duration_ms  popularity  danceability  energy  loudness  speechiness  \\\n",
       "135          246333           1         0.724   0.689    -5.922       0.1350   \n",
       "136          186467           1         0.685   0.610    -5.221       0.0439   \n",
       "137          199520           1         0.762   0.520    -5.237       0.0959   \n",
       "138          240597           1         0.563   0.366    -6.896       0.1210   \n",
       "139          213947           1         0.653   0.621    -5.721       0.0409   \n",
       "...             ...         ...           ...     ...       ...          ...   \n",
       "231317       131160           1         0.518   0.694    -5.631       0.0836   \n",
       "231493       262827           1         0.660   0.560    -8.894       0.0287   \n",
       "231638       158493           1         0.661   0.909    -2.323       0.0494   \n",
       "232230       274747           1         0.677   0.845    -8.270       0.0379   \n",
       "232407       217027           1         0.797   0.512    -8.250       0.1940   \n",
       "\n",
       "        acousticness  instrumentalness  liveness  valence    tempo  \n",
       "135           0.0830          0.000000    0.3040   0.6930  146.496  \n",
       "136           0.3230          0.000000    0.1020   0.3230   94.384  \n",
       "137           0.0675          0.000004    0.1140   0.0862   75.047  \n",
       "138           0.3600          0.002430    0.0955   0.7680   85.352  \n",
       "139           0.5960          0.000000    0.0811   0.4660  100.006  \n",
       "...              ...               ...       ...      ...      ...  \n",
       "231317        0.5840          0.000000    0.6870   0.8730  160.537  \n",
       "231493        0.2100          0.000040    0.0974   0.6410   89.505  \n",
       "231638        0.0981          0.000000    0.3050   0.6430  125.021  \n",
       "232230        0.0253          0.001020    0.3250   0.6390  105.893  \n",
       "232407        0.1100          0.000001    0.0853   0.6020  114.892  \n",
       "\n",
       "[58432 rows x 11 columns]"
      ]
     },
     "execution_count": 11,
     "metadata": {},
     "output_type": "execute_result"
    }
   ],
   "source": [
    "#converting popularity ratings into 0 and 1 based on whether song is popular or not popular\n",
    "featStreamDF = pd.DataFrame(spotdata[[\"duration_ms\",\"popularity\", \"danceability\", \"energy\", \"loudness\", \"speechiness\", \"acousticness\",\t\"instrumentalness\",\t\"liveness\",\t\"valence\", \"tempo\"]])\n",
    "\n",
    "featStreamDF.loc[featStreamDF['popularity'] < 55, 'popularity'] = 0 \n",
    "featStreamDF.loc[featStreamDF['popularity'] >= 55, 'popularity'] = 1\n",
    "featStreamDF.loc[featStreamDF['popularity'] == 1]"
   ]
  },
  {
   "cell_type": "code",
   "execution_count": 5,
   "id": "4993a793-0079-4109-8cf3-6612dca04481",
   "metadata": {},
   "outputs": [],
   "source": [
    "features = [\"acousticness\", \"danceability\", \"duration_ms\", \"energy\", \"instrumentalness\", \"liveness\", \n",
    "            \"speechiness\", \"tempo\", \"valence\"]"
   ]
  },
  {
   "cell_type": "code",
   "execution_count": 6,
   "id": "3ef54be4-38f3-448b-90f1-e6c8cb4f03b7",
   "metadata": {},
   "outputs": [],
   "source": [
    "from sklearn.model_selection import train_test_split\n",
    "training = spotdata.sample(frac = 0.8)\n",
    "X_train = training[features]\n",
    "y_train = training['popularity']\n",
    "X_test = spotdata.drop(training.index)[features]\n",
    "\n",
    "X_train, X_valid, y_train, y_valid = train_test_split(X_train, y_train, test_size = 0.2)"
   ]
  },
  {
   "cell_type": "markdown",
   "id": "7ecbebed-7299-47f9-a1e8-b6375b9e63b0",
   "metadata": {},
   "source": [
    "As seen from the analysis, there are 27 unique genres that songs can fall into, and so our aim would be to classify songs based on genre and identify which genre has the highest popularity so that producers can view the performance of songs of different genres."
   ]
  },
  {
   "cell_type": "code",
   "execution_count": 18,
   "id": "4d9c64f0-9e40-4d43-a87d-c93f742955cc",
   "metadata": {},
   "outputs": [],
   "source": [
    "#scaling function required to use KMeans\n",
    "from sklearn.preprocessing import StandardScaler\n",
    "\n",
    "scaler = StandardScaler()\n",
    "X_std = scaler.fit_transform(featStreamDF)"
   ]
  },
  {
   "cell_type": "code",
   "execution_count": 19,
   "id": "0cfc86bb-a82e-428f-a596-dd98018410c4",
   "metadata": {},
   "outputs": [
    {
     "name": "stderr",
     "output_type": "stream",
     "text": [
      "C:\\Users\\OWNER\\anaconda\\Lib\\site-packages\\sklearn\\base.py:1151: ConvergenceWarning: Number of distinct clusters (2) found smaller than n_clusters (27). Possibly due to duplicate points in X.\n",
      "  return fit_method(estimator, *args, **kwargs)\n"
     ]
    },
    {
     "data": {
      "text/html": [
       "<style>#sk-container-id-2 {color: black;}#sk-container-id-2 pre{padding: 0;}#sk-container-id-2 div.sk-toggleable {background-color: white;}#sk-container-id-2 label.sk-toggleable__label {cursor: pointer;display: block;width: 100%;margin-bottom: 0;padding: 0.3em;box-sizing: border-box;text-align: center;}#sk-container-id-2 label.sk-toggleable__label-arrow:before {content: \"▸\";float: left;margin-right: 0.25em;color: #696969;}#sk-container-id-2 label.sk-toggleable__label-arrow:hover:before {color: black;}#sk-container-id-2 div.sk-estimator:hover label.sk-toggleable__label-arrow:before {color: black;}#sk-container-id-2 div.sk-toggleable__content {max-height: 0;max-width: 0;overflow: hidden;text-align: left;background-color: #f0f8ff;}#sk-container-id-2 div.sk-toggleable__content pre {margin: 0.2em;color: black;border-radius: 0.25em;background-color: #f0f8ff;}#sk-container-id-2 input.sk-toggleable__control:checked~div.sk-toggleable__content {max-height: 200px;max-width: 100%;overflow: auto;}#sk-container-id-2 input.sk-toggleable__control:checked~label.sk-toggleable__label-arrow:before {content: \"▾\";}#sk-container-id-2 div.sk-estimator input.sk-toggleable__control:checked~label.sk-toggleable__label {background-color: #d4ebff;}#sk-container-id-2 div.sk-label input.sk-toggleable__control:checked~label.sk-toggleable__label {background-color: #d4ebff;}#sk-container-id-2 input.sk-hidden--visually {border: 0;clip: rect(1px 1px 1px 1px);clip: rect(1px, 1px, 1px, 1px);height: 1px;margin: -1px;overflow: hidden;padding: 0;position: absolute;width: 1px;}#sk-container-id-2 div.sk-estimator {font-family: monospace;background-color: #f0f8ff;border: 1px dotted black;border-radius: 0.25em;box-sizing: border-box;margin-bottom: 0.5em;}#sk-container-id-2 div.sk-estimator:hover {background-color: #d4ebff;}#sk-container-id-2 div.sk-parallel-item::after {content: \"\";width: 100%;border-bottom: 1px solid gray;flex-grow: 1;}#sk-container-id-2 div.sk-label:hover label.sk-toggleable__label {background-color: #d4ebff;}#sk-container-id-2 div.sk-serial::before {content: \"\";position: absolute;border-left: 1px solid gray;box-sizing: border-box;top: 0;bottom: 0;left: 50%;z-index: 0;}#sk-container-id-2 div.sk-serial {display: flex;flex-direction: column;align-items: center;background-color: white;padding-right: 0.2em;padding-left: 0.2em;position: relative;}#sk-container-id-2 div.sk-item {position: relative;z-index: 1;}#sk-container-id-2 div.sk-parallel {display: flex;align-items: stretch;justify-content: center;background-color: white;position: relative;}#sk-container-id-2 div.sk-item::before, #sk-container-id-2 div.sk-parallel-item::before {content: \"\";position: absolute;border-left: 1px solid gray;box-sizing: border-box;top: 0;bottom: 0;left: 50%;z-index: -1;}#sk-container-id-2 div.sk-parallel-item {display: flex;flex-direction: column;z-index: 1;position: relative;background-color: white;}#sk-container-id-2 div.sk-parallel-item:first-child::after {align-self: flex-end;width: 50%;}#sk-container-id-2 div.sk-parallel-item:last-child::after {align-self: flex-start;width: 50%;}#sk-container-id-2 div.sk-parallel-item:only-child::after {width: 0;}#sk-container-id-2 div.sk-dashed-wrapped {border: 1px dashed gray;margin: 0 0.4em 0.5em 0.4em;box-sizing: border-box;padding-bottom: 0.4em;background-color: white;}#sk-container-id-2 div.sk-label label {font-family: monospace;font-weight: bold;display: inline-block;line-height: 1.2em;}#sk-container-id-2 div.sk-label-container {text-align: center;}#sk-container-id-2 div.sk-container {/* jupyter's `normalize.less` sets `[hidden] { display: none; }` but bootstrap.min.css set `[hidden] { display: none !important; }` so we also need the `!important` here to be able to override the default hidden behavior on the sphinx rendered scikit-learn.org. See: https://github.com/scikit-learn/scikit-learn/issues/21755 */display: inline-block !important;position: relative;}#sk-container-id-2 div.sk-text-repr-fallback {display: none;}</style><div id=\"sk-container-id-2\" class=\"sk-top-container\"><div class=\"sk-text-repr-fallback\"><pre>KMeans(n_clusters=27, n_init=&#x27;auto&#x27;, random_state=0)</pre><b>In a Jupyter environment, please rerun this cell to show the HTML representation or trust the notebook. <br />On GitHub, the HTML representation is unable to render, please try loading this page with nbviewer.org.</b></div><div class=\"sk-container\" hidden><div class=\"sk-item\"><div class=\"sk-estimator sk-toggleable\"><input class=\"sk-toggleable__control sk-hidden--visually\" id=\"sk-estimator-id-2\" type=\"checkbox\" checked><label for=\"sk-estimator-id-2\" class=\"sk-toggleable__label sk-toggleable__label-arrow\">KMeans</label><div class=\"sk-toggleable__content\"><pre>KMeans(n_clusters=27, n_init=&#x27;auto&#x27;, random_state=0)</pre></div></div></div></div></div>"
      ],
      "text/plain": [
       "KMeans(n_clusters=27, n_init='auto', random_state=0)"
      ]
     },
     "execution_count": 19,
     "metadata": {},
     "output_type": "execute_result"
    }
   ],
   "source": [
    "#Applying KMeans model to the data\n",
    "from sklearn.cluster import KMeans\n",
    "from sklearn import preprocessing\n",
    "\n",
    "x_array = X_train.values\n",
    "x_reshaped = x_array.reshape(-1, 1)\n",
    "X_norm = preprocessing.normalize(x_reshaped)\n",
    "\n",
    "\n",
    "kmeans = KMeans(n_clusters = 27, random_state = 0, n_init='auto')\n",
    "kmeans.fit(X_norm)"
   ]
  },
  {
   "cell_type": "code",
   "execution_count": 20,
   "id": "b28d8014-97ef-431d-92e2-ed4b5e087443",
   "metadata": {},
   "outputs": [
    {
     "name": "stdout",
     "output_type": "stream",
     "text": [
      "Accuracy: 0.04\n"
     ]
    }
   ],
   "source": [
    "from sklearn.neighbors import KNeighborsClassifier\n",
    "from sklearn.metrics import accuracy_score, roc_auc_score\n",
    "\n",
    "# Initialize KNeighborsClassifier with default parameters\n",
    "KNN_Model = KNeighborsClassifier(n_neighbors=27)  # You can adjust the number of neighbors as needed, we only need two for popular and not popular clusters\n",
    "\n",
    "\n",
    "# Fit the model on the training data\n",
    "KNN_Model.fit(X_train, y_train)\n",
    "\n",
    "# Predict on the validation set\n",
    "KNN_Predict = KNN_Model.predict(X_valid)\n",
    "\n",
    "# Calculate accuracy\n",
    "KNN_Accuracy = accuracy_score(y_valid, KNN_Predict)\n",
    "print(\"Accuracy: {:.2f}\".format(KNN_Accuracy))\n",
    "\n"
   ]
  },
  {
   "cell_type": "code",
   "execution_count": 30,
   "id": "f55df9da-4897-4917-8c8d-0ad220421e98",
   "metadata": {},
   "outputs": [
    {
     "data": {
      "text/plain": [
       "array([[-7.22755189e-14],\n",
       "       [ 1.00000000e+00],\n",
       "       [ 1.00000000e+00],\n",
       "       [ 1.00000000e+00],\n",
       "       [ 1.00000000e+00],\n",
       "       [ 1.00000000e+00],\n",
       "       [ 1.00000000e+00],\n",
       "       [ 1.00000000e+00],\n",
       "       [ 1.00000000e+00],\n",
       "       [ 1.00000000e+00],\n",
       "       [ 1.00000000e+00],\n",
       "       [ 1.00000000e+00],\n",
       "       [ 1.00000000e+00],\n",
       "       [ 1.00000000e+00],\n",
       "       [ 1.00000000e+00],\n",
       "       [ 1.00000000e+00],\n",
       "       [ 1.00000000e+00],\n",
       "       [ 1.00000000e+00],\n",
       "       [ 1.00000000e+00],\n",
       "       [ 1.00000000e+00],\n",
       "       [ 1.00000000e+00],\n",
       "       [ 1.00000000e+00],\n",
       "       [ 1.00000000e+00],\n",
       "       [ 1.00000000e+00],\n",
       "       [ 1.00000000e+00],\n",
       "       [ 1.00000000e+00],\n",
       "       [ 1.00000000e+00]])"
      ]
     },
     "execution_count": 30,
     "metadata": {},
     "output_type": "execute_result"
    }
   ],
   "source": [
    "#identifying all clusters used\n",
    "kmeans.cluster_centers_"
   ]
  },
  {
   "cell_type": "markdown",
   "id": "517eea1a-b01e-47f0-bbd0-7b326ab2d878",
   "metadata": {},
   "source": [
    "As seen above, 27 clusters have been identified which were used to attempt the KMeans Clustering"
   ]
  }
 ],
 "metadata": {
  "kernelspec": {
   "display_name": "Python 3 (ipykernel)",
   "language": "python",
   "name": "python3"
  },
  "language_info": {
   "codemirror_mode": {
    "name": "ipython",
    "version": 3
   },
   "file_extension": ".py",
   "mimetype": "text/x-python",
   "name": "python",
   "nbconvert_exporter": "python",
   "pygments_lexer": "ipython3",
   "version": "3.11.5"
  }
 },
 "nbformat": 4,
 "nbformat_minor": 5
}
